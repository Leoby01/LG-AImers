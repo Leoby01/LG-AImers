{
  "nbformat": 4,
  "nbformat_minor": 0,
  "metadata": {
    "colab": {
      "provenance": [],
      "authorship_tag": "ABX9TyN7LvRUB8+pmHZr9/fFhJNo",
      "include_colab_link": true
    },
    "kernelspec": {
      "name": "python3",
      "display_name": "Python 3"
    },
    "language_info": {
      "name": "python"
    }
  },
  "cells": [
    {
      "cell_type": "markdown",
      "metadata": {
        "id": "view-in-github",
        "colab_type": "text"
      },
      "source": [
        "<a href=\"https://colab.research.google.com/github/Leoby01/LG-AImers/blob/main/LGAImers.ipynb\" target=\"_parent\"><img src=\"https://colab.research.google.com/assets/colab-badge.svg\" alt=\"Open In Colab\"/></a>"
      ]
    },
    {
      "cell_type": "code",
      "execution_count": 2,
      "metadata": {
        "colab": {
          "base_uri": "https://localhost:8080/"
        },
        "id": "LbfLNNrnsPrP",
        "outputId": "adc14c03-d0c0-4b4d-b1b0-dac1fbaf3f40"
      },
      "outputs": [
        {
          "output_type": "stream",
          "name": "stdout",
          "text": [
            "Drive already mounted at /content/drive; to attempt to forcibly remount, call drive.mount(\"/content/drive\", force_remount=True).\n"
          ]
        }
      ],
      "source": [
        "from google.colab import drive\n",
        "drive.mount('/content/drive')\n",
        "\n",
        "\n",
        "import pandas as pd\n",
        "import numpy as np\n",
        "import random\n",
        "import os\n",
        "\n",
        "from sklearn.preprocessing import LabelEncoder\n",
        "from sklearn.ensemble import RandomForestClassifier"
      ]
    },
    {
      "cell_type": "code",
      "source": [
        "def seed_everything(seed):\n",
        "  random.seed(seed)\n",
        "  os.environ['PYTHONHASHSEED'] = str(seed)\n",
        "  np.random.seed(seed)\n",
        "seed_everything(37) #Seed 고정"
      ],
      "metadata": {
        "id": "1j7s3RvdLuh9"
      },
      "execution_count": 3,
      "outputs": []
    },
    {
      "cell_type": "code",
      "source": [
        "filename = '/content/drive/My Drive/LGAImers/train.csv'\n",
        "train_csv = pd.read_csv(filename)\n",
        "filename = '/content/drive/My Drive/LGAImers/test.csv'\n",
        "test_csv = pd.read_csv(filename)\n",
        "#train_csv\n",
        "#  Product_ID : 제품의 고유 ID\n",
        "#  Y_Class : 제품의 품질상태(Target)\n",
        "#    0 : 적정 기준 미달 (부적합)\n",
        "#    1 : 적합\n",
        "#    2 : 적정 기준 초과 (부적합)\n",
        "#  Y_Quality : 제품 품질 관련 정량적 수치\n",
        "#  TIMESTAMP : 제품이 공정에 들어간 시각\n",
        "#  LINE : 제품이 들어간 공정 LINE의 종류('T050304', 'T050307', 'T100304', 'T100306', 'T010306', 'T010305' 존재)\n",
        "#  PRODUCT_CODE : 제품의 CODE 번호 ('A_31', 'T_31', 'O_31' 존재)\n",
        "#test_csv\n",
        "#  PRODUCT_ID : 제품의 고유 ID\n",
        "#  TIMESTAMP : 제품이 공정에 들어간 시각\n",
        "#  LINE : 제품이 들어간 공정 LINE 종류 ('T050304', 'T050307', 'T100304', 'T100306', 'T010306', 'T010305' 존재)\n",
        "#  PRODUCT_CODE : 제품의 CODE 번호 ('A_31', 'T_31', 'O_31' 존재)\n",
        "#  X_1 ~ X_2875 : 공정 과정에서 추출되어 비식별화된 변수\n",
        "#sample_submission.csv[제출 양식]\n",
        "#  PRODUCT_ID : 제품의 고유 ID\n",
        "#  Y_Class : 예측한 제품 품질 상태\n",
        "#    0 : 적정 기준 미달 (부적합)\n",
        "#    1 : 적합\n",
        "#    2 : 적정 기준 초과 (부적합)"
      ],
      "metadata": {
        "id": "LyDywx47tfPD"
      },
      "execution_count": 4,
      "outputs": []
    },
    {
      "cell_type": "code",
      "source": [
        "train_x = train_csv.drop(columns = ['PRODUCT_ID', 'TIMESTAMP', 'Y_Class', 'Y_Quality'])\n",
        "train_y = train_csv['Y_Class']\n",
        "test_x = test_csv.drop(columns = ['PRODUCT_ID', 'TIMESTAMP'])"
      ],
      "metadata": {
        "id": "6Po15IyctxAi"
      },
      "execution_count": 7,
      "outputs": []
    },
    {
      "cell_type": "code",
      "source": [
        "train_x = train_x.fillna(0)\n",
        "test_x = test_x.fillna(0)"
      ],
      "metadata": {
        "id": "Rgw2V0oc4aXx"
      },
      "execution_count": 8,
      "outputs": []
    },
    {
      "cell_type": "code",
      "source": [
        "#qualitive to quantitative\n",
        "qual_col = ['LINE', 'PRODUCT_CODE']\n",
        "\n",
        "for i in qual_col:\n",
        "  le = LabelEncoder()\n",
        "  le = le.fit(train_x[i])\n",
        "  train_x[i] = le.transform(train_x[i])\n",
        "\n",
        "  for label in np.unique(test_x[i]):\n",
        "    if label not in le.classes_:\n",
        "      le.classes_ = np.append(le.classes_, label)\n",
        "  test_x[i] = le.transform(test_x[i])\n",
        "print('Done.')"
      ],
      "metadata": {
        "colab": {
          "base_uri": "https://localhost:8080/"
        },
        "id": "UAahS1aK4dIb",
        "outputId": "65ccd08f-5fe3-4c5b-9bbe-6cc7d54434d2"
      },
      "execution_count": 10,
      "outputs": [
        {
          "output_type": "stream",
          "name": "stdout",
          "text": [
            "Done.\n"
          ]
        }
      ]
    },
    {
      "cell_type": "code",
      "source": [
        "RF = RandomForestClassifier(random_state = 37).fit(train_x, train_y)\n",
        "print('Done.')"
      ],
      "metadata": {
        "colab": {
          "base_uri": "https://localhost:8080/"
        },
        "id": "3YHgqXaQ5BX8",
        "outputId": "8c0ac027-2f04-4529-88a3-56c2be119e62"
      },
      "execution_count": 12,
      "outputs": [
        {
          "output_type": "stream",
          "name": "stdout",
          "text": [
            "Done.\n"
          ]
        }
      ]
    },
    {
      "cell_type": "code",
      "source": [
        "preds = RF.predict(test_x)\n",
        "print('Done.')"
      ],
      "metadata": {
        "id": "5iOU1xEuClHc",
        "colab": {
          "base_uri": "https://localhost:8080/"
        },
        "outputId": "7f778adc-8467-4e60-ce8b-f067d0602780"
      },
      "execution_count": 13,
      "outputs": [
        {
          "output_type": "stream",
          "name": "stdout",
          "text": [
            "Done.\n"
          ]
        }
      ]
    },
    {
      "cell_type": "code",
      "source": [
        "submit = pd.read_csv('/content/drive/My Drive/LGAImers/sample_submission.csv')"
      ],
      "metadata": {
        "id": "vTPn7ozHNwBZ"
      },
      "execution_count": 17,
      "outputs": []
    },
    {
      "cell_type": "code",
      "source": [
        "submit['Y_Class'] = preds"
      ],
      "metadata": {
        "id": "v5c37kgdOqHF"
      },
      "execution_count": 18,
      "outputs": []
    },
    {
      "cell_type": "code",
      "source": [
        "submit.to_csv('/content/drive/My Drive/LGAImers/baseline_submission.csv', index = False)"
      ],
      "metadata": {
        "id": "NuQc1fYZPVZs"
      },
      "execution_count": 19,
      "outputs": []
    },
    {
      "cell_type": "code",
      "source": [],
      "metadata": {
        "id": "-W9pmhZwPer1"
      },
      "execution_count": null,
      "outputs": []
    }
  ]
}